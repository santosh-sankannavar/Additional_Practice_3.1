{
 "cells": [
  {
   "cell_type": "code",
   "execution_count": 88,
   "metadata": {},
   "outputs": [
    {
     "name": "stdout",
     "output_type": "stream",
     "text": [
      "Please Enter the Radius of a Cone: 4\n",
      "Please Enter the Height of a Cone: 5\n",
      "Surface Area:  130.73\n",
      "Volume:  83.78\n",
      "Area of triangle is 80.46\n"
     ]
    }
   ],
   "source": [
    "import math\n",
    "class Cone():\n",
    "     def __init__(self, heightcone, radiusOne):\n",
    "        self.radius = heightcone\n",
    "        self.height = radiusOne\n",
    "       \n",
    "     def calculate_area(self):\n",
    "        # Calculate Length of a Slide (Slant)\n",
    "        l = math.sqrt(self.radius * self.radius + self.height * self.height)\n",
    "        # Calculate the Surface Area\n",
    "        SA = math.pi * self.radius * (self.radius + l)\n",
    "        print('Surface Area:  %0.2f'%SA)\n",
    "        # Calculate the Volume\n",
    "        Volume = (1.0/3) * math.pi * self.radius * self.radius * self.height\n",
    "        print('Volume:  %0.2f'%Volume)\n",
    "        # Calculate the Lateral Surface Area\n",
    "        LSA = math.pi * self.radius  * l\n",
    "\n",
    "        return LSA\n",
    "radius = float(input('Please Enter the Radius of a Cone: '))\n",
    "height = float(input('Please Enter the Height of a Cone: '))\n",
    "  \n",
    "Coneobj = Cone(radius,height)\n",
    "print('Area of triangle is %0.2f'%Coneobj.calculate_area())"
   ]
  },
  {
   "cell_type": "code",
   "execution_count": 89,
   "metadata": {},
   "outputs": [
    {
     "name": "stdout",
     "output_type": "stream",
     "text": [
      "8.0\n",
      "0.008\n",
      "-32.0\n",
      "-0.008\n",
      "1.0\n"
     ]
    }
   ],
   "source": [
    "class MathOperation():\n",
    "     def __init__(self, number, power):\n",
    "        self.number = number\n",
    "        self.power = power\n",
    "       \n",
    "     def powe(self, number, power):\n",
    "            self.number = number\n",
    "            self.power = power\n",
    "            powered=1.00\n",
    "            if  self.power<0 :\n",
    "                for _ in range((-self.power)):\n",
    "                    powered *= self.number\n",
    "                powered= 1.0000 / powered\n",
    "            elif  self.power==0 :\n",
    "                for _ in range(self.power):\n",
    "                    powered *= self.number \n",
    "            elif  self.power>0 :\n",
    "                for _ in range(self.power):\n",
    "                    powered *= self.number                     \n",
    "            return powered\n",
    "\n",
    "\n",
    "MathOperationobj = MathOperation(2, 3)\n",
    "print(MathOperationobj.powe(2, 3)) \n",
    "print(MathOperationobj.powe(5, -3)) \n",
    "print(MathOperationobj.powe(-2, 5))\n",
    "print(MathOperationobj.powe(-5, -3))\n",
    "print(MathOperationobj.powe(20000,0)) "
   ]
  },
  {
   "cell_type": "code",
   "execution_count": 90,
   "metadata": {},
   "outputs": [
    {
     "name": "stdout",
     "output_type": "stream",
     "text": [
      "True\n",
      "False\n",
      "False\n",
      "True\n"
     ]
    }
   ],
   "source": [
    "class Base:\n",
    "  def __init__(baseType):\n",
    "    print('Base is a ', baseType)\n",
    "\n",
    "class Derived(Base):\n",
    "  def __init__(self):\n",
    "    Base.__init__('Derived')\n",
    "    \n",
    "print(issubclass(Derived, Base))\n",
    "print(issubclass(Base,Derived))\n",
    "print(issubclass(Derived, list))\n",
    "print(issubclass(Derived, (list, Base)))\n"
   ]
  },
  {
   "cell_type": "code",
   "execution_count": 67,
   "metadata": {},
   "outputs": [
    {
     "name": "stdout",
     "output_type": "stream",
     "text": [
      "Base is a  <__main__.Employee object at 0x000001FD777AE3C8>\n"
     ]
    }
   ],
   "source": [
    "class Person:\n",
    "  def __init__(self):\n",
    "    print(first+' '+last)\n",
    "  def __str__(self,first,last):\n",
    "     print(first+' '+last)\n",
    "    \n",
    "class Employee(Base):\n",
    "  def __init__(self):\n",
    "      super().__init__()\n",
    "        \n",
    "employee=Employee()\n"
   ]
  },
  {
   "cell_type": "code",
   "execution_count": 91,
   "metadata": {},
   "outputs": [
    {
     "name": "stdout",
     "output_type": "stream",
     "text": [
      "Initializing: class Person\n",
      "Initializing: class Employee\n",
      "Printing from class Person: Santosh Sankannavar\n",
      "Printing from class Employee: Santosh Sankannavar\n"
     ]
    }
   ],
   "source": [
    "class Employee:\n",
    "    def __init__(self, first,last):\n",
    "        print('Initializing: class Employee')\n",
    "        self.first=first\n",
    "        self.last=last\n",
    "\n",
    "    def __str__(self):\n",
    "        print('Printing from class Employee:', self.first+' '+self.last)\n",
    "\n",
    "\n",
    "class Person(Employee):\n",
    "    def __init__(self, first,last):\n",
    "        print('Initializing: class Person')\n",
    "        self.first=first\n",
    "        self.last=last\n",
    "        super().__init__( first,last)\n",
    "\n",
    "    def __str__(self):\n",
    "        print('Printing from class Person:', self.first+' '+self.last)\n",
    "        super().__str__()\n",
    "        \n",
    "b = Person('Santosh','Sankannavar')\n",
    "b.__str__()        "
   ]
  },
  {
   "cell_type": "code",
   "execution_count": null,
   "metadata": {},
   "outputs": [],
   "source": []
  }
 ],
 "metadata": {
  "kernelspec": {
   "display_name": "Python 3",
   "language": "python",
   "name": "python3"
  },
  "language_info": {
   "codemirror_mode": {
    "name": "ipython",
    "version": 3
   },
   "file_extension": ".py",
   "mimetype": "text/x-python",
   "name": "python",
   "nbconvert_exporter": "python",
   "pygments_lexer": "ipython3",
   "version": "3.7.0"
  }
 },
 "nbformat": 4,
 "nbformat_minor": 2
}
